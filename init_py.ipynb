{
 "cells": [
  {
   "cell_type": "code",
   "execution_count": 2,
   "metadata": {},
   "outputs": [],
   "source": [
    "import discord\n",
    "from discord.ext import commands, tasks\n",
    "import aiohttp\n",
    "import os\n",
    "import requests\n",
    "import random\n",
    "import wikipedia"
   ]
  },
  {
   "cell_type": "code",
   "execution_count": 3,
   "metadata": {},
   "outputs": [],
   "source": [
    "client = commands.Bot(command_prefix=\"?\", help_command=None)"
   ]
  },
  {
   "cell_type": "code",
   "execution_count": 4,
   "metadata": {},
   "outputs": [],
   "source": [
    "from discord.voice_client import VoiceClient\n",
    "import youtube_dl"
   ]
  },
  {
   "cell_type": "code",
   "execution_count": 5,
   "metadata": {},
   "outputs": [],
   "source": [
    "import asyncio\n",
    "import nest_asyncio\n",
    "import async_timeout\n",
    "nest_asyncio.apply()\n",
    "songs = asyncio.Queue()\n",
    "play_next_song = asyncio.Event()\n",
    "queues = {}"
   ]
  },
  {
   "cell_type": "code",
   "execution_count": 9,
   "metadata": {},
   "outputs": [
    {
     "name": "stdout",
     "output_type": "stream",
     "text": [
      "Failed to load extension fun\n",
      "NoEntryPointError: Extension 'Cogs.fun' has no 'setup' function.\n",
      "Failed to load extension error\n",
      "NoEntryPointError: Extension 'Cogs.error' has no 'setup' function.\n",
      "Failed to load extension smart\n",
      "NoEntryPointError: Extension 'Cogs.smart' has no 'setup' function.\n",
      "Failed to load extension images\n",
      "NoEntryPointError: Extension 'Cogs.images' has no 'setup' function.\n",
      "Failed to load extension mod\n",
      "NoEntryPointError: Extension 'Cogs.mod' has no 'setup' function.\n"
     ]
    }
   ],
   "source": [
    "if __name__ == \"__main__\":\n",
    "    for file in os.listdir(\"Cogs\"):\n",
    "        if file.endswith(\".py\"):\n",
    "            extension = file[:-3]\n",
    "            try:\n",
    "                client.load_extension(f\"Cogs.{extension}\")\n",
    "                print(f\"Loaded extension '{extension}'\")\n",
    "            except Exception as e:\n",
    "                exception = f\"{type(e).__name__}: {e}\"\n",
    "                print(f\"Failed to load extension {extension}\\n{exception}\")"
   ]
  },
  {
   "cell_type": "code",
   "execution_count": 5,
   "metadata": {},
   "outputs": [],
   "source": [
    "client.event\n",
    "async def on_ready():\n",
    "    print('Doppio is here!')"
   ]
  },
  {
   "cell_type": "code",
   "execution_count": null,
   "metadata": {},
   "outputs": [],
   "source": [
    "client.run('{token here}')"
   ]
  }
 ],
 "metadata": {
  "kernelspec": {
   "display_name": "Python 3",
   "language": "python",
   "name": "python3"
  },
  "language_info": {
   "codemirror_mode": {
    "name": "ipython",
    "version": 3
   },
   "file_extension": ".py",
   "mimetype": "text/x-python",
   "name": "python",
   "nbconvert_exporter": "python",
   "pygments_lexer": "ipython3",
   "version": "3.8.5"
  }
 },
 "nbformat": 4,
 "nbformat_minor": 4
}
